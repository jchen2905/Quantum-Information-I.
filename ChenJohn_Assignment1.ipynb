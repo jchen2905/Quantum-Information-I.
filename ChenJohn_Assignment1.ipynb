{
 "cells": [
  {
   "cell_type": "code",
   "execution_count": 73,
   "id": "8dceca59-8650-400b-a570-bc79741ef154",
   "metadata": {},
   "outputs": [],
   "source": [
    "import numpy as np\n",
    "from numpy import array, dot, pi\n",
    "import scipy.sparse as sp\n",
    "from scipy.sparse.linalg import eigsh\n",
    "from scipy.linalg import eigvals"
   ]
  },
  {
   "cell_type": "code",
   "execution_count": 74,
   "id": "ed68ea84-6cf3-44e5-a189-0d992ed2c7fe",
   "metadata": {},
   "outputs": [],
   "source": [
    "#Assignment 1.2: print Pauli operations using Python"
   ]
  },
  {
   "cell_type": "code",
   "execution_count": 75,
   "id": "e58f1503-969c-457c-a25d-c66301dbf3ef",
   "metadata": {
    "scrolled": true
   },
   "outputs": [],
   "source": [
    "def pauli_X():\n",
    "    op=sp.csr_matrix([[0,1],[1,0]])\n",
    "    return op\n",
    "\n",
    "def pauli_Z():\n",
    "    op=sp.csr_matrix([[1,0],[0,-1]])\n",
    "    return op\n",
    "\n",
    "def pauli_Y():\n",
    "    op=sp.csr_matrix([[0,-1j],[1j,0]])\n",
    "    return op\n"
   ]
  },
  {
   "cell_type": "code",
   "execution_count": 76,
   "id": "49f17534-c02b-42df-8315-55fadd097bda",
   "metadata": {},
   "outputs": [],
   "source": [
    "#Assignment 1.2 solution"
   ]
  },
  {
   "cell_type": "code",
   "execution_count": 77,
   "id": "93f20d55-4074-4e38-8559-dce7778105d8",
   "metadata": {
    "scrolled": true
   },
   "outputs": [
    {
     "name": "stdout",
     "output_type": "stream",
     "text": [
      "<Compressed Sparse Row sparse matrix of dtype 'int64'\n",
      "\twith 2 stored elements and shape (2, 2)>\n",
      "  Coords\tValues\n",
      "  (0, 1)\t1\n",
      "  (1, 0)\t1 <Compressed Sparse Row sparse matrix of dtype 'complex128'\n",
      "\twith 2 stored elements and shape (2, 2)>\n",
      "  Coords\tValues\n",
      "  (0, 1)\t(-0-1j)\n",
      "  (1, 0)\t1j <Compressed Sparse Row sparse matrix of dtype 'int64'\n",
      "\twith 2 stored elements and shape (2, 2)>\n",
      "  Coords\tValues\n",
      "  (0, 0)\t1\n",
      "  (1, 1)\t-1\n"
     ]
    }
   ],
   "source": [
    "print(pauli_X(), pauli_Y(), pauli_Z())"
   ]
  },
  {
   "cell_type": "code",
   "execution_count": 78,
   "id": "80cddbc4-37a3-498a-8dd7-d565d42053ee",
   "metadata": {},
   "outputs": [],
   "source": [
    "#Assignment 1.3: Compute the norm of c = [1+i, 3−2i]"
   ]
  },
  {
   "cell_type": "code",
   "execution_count": 79,
   "id": "5737f63f-3509-493c-9048-1adbe197021d",
   "metadata": {},
   "outputs": [],
   "source": [
    "c = np.array([1 + 1j, 3 - 2j])\n",
    "\n",
    "c_norm = np.sqrt(np.dot(np.conj(c).T,c))"
   ]
  },
  {
   "cell_type": "code",
   "execution_count": 80,
   "id": "73a97ac8-97cc-4155-8c29-c0ce9faa1e08",
   "metadata": {},
   "outputs": [],
   "source": [
    "#Assignment 1.3 solution"
   ]
  },
  {
   "cell_type": "code",
   "execution_count": 81,
   "id": "8bcacfae-64dc-4382-882f-f38af1e4362d",
   "metadata": {},
   "outputs": [
    {
     "name": "stdout",
     "output_type": "stream",
     "text": [
      "[1.+1.j 3.-2.j] (3.872983346207417+0j)\n"
     ]
    }
   ],
   "source": [
    "print(c, c_norm)"
   ]
  },
  {
   "cell_type": "code",
   "execution_count": 82,
   "id": "ccac8d1a-8129-45df-96da-6bb653b22477",
   "metadata": {},
   "outputs": [],
   "source": [
    "#Assignment 1.4: Obtain the eigenvalues and eigenvectors of example matrix"
   ]
  },
  {
   "cell_type": "code",
   "execution_count": 83,
   "id": "22bfed8a-94d2-4621-9df9-d862c2efb73b",
   "metadata": {},
   "outputs": [],
   "source": [
    "H = np.array([[2,1-1j],[1+1j,3]])\n",
    "\n",
    "eigenvalues, eigenvectors = np.linalg.eig(H)"
   ]
  },
  {
   "cell_type": "code",
   "execution_count": null,
   "id": "e3bbcd9f-5d49-4c2a-874d-2c3fe5742f45",
   "metadata": {},
   "outputs": [],
   "source": [
    "#Assignment 1.4 Solution"
   ]
  },
  {
   "cell_type": "code",
   "execution_count": 84,
   "id": "74b2964a-0a9b-4432-9282-17f612ac5486",
   "metadata": {
    "collapsed": true,
    "jupyter": {
     "outputs_hidden": true
    }
   },
   "outputs": [
    {
     "name": "stdout",
     "output_type": "stream",
     "text": [
      "H\n",
      "[[2.+0.j 1.-1.j]\n",
      " [1.+1.j 3.+0.j]]\n",
      "\n",
      "Eigenvalues:\n",
      "[1.-2.52702567e-16j 4.-1.91386643e-16j]\n",
      "\n",
      "Eigenvectors:\n",
      "[[ 0.81649658+0.j          0.40824829-0.40824829j]\n",
      " [-0.40824829-0.40824829j  0.81649658+0.j        ]]\n"
     ]
    }
   ],
   "source": [
    "print(\"H\")\n",
    "print(H)\n",
    "print(\"\\nEigenvalues:\")\n",
    "print(eigenvalues)\n",
    "print(\"\\nEigenvectors:\")\n",
    "print(eigenvectors)"
   ]
  },
  {
   "cell_type": "code",
   "execution_count": null,
   "id": "389fb39e-aec7-4f7e-b493-365ed8cf4275",
   "metadata": {},
   "outputs": [],
   "source": []
  }
 ],
 "metadata": {
  "kernelspec": {
   "display_name": "Python 3 (ipykernel)",
   "language": "python",
   "name": "python3"
  },
  "language_info": {
   "codemirror_mode": {
    "name": "ipython",
    "version": 3
   },
   "file_extension": ".py",
   "mimetype": "text/x-python",
   "name": "python",
   "nbconvert_exporter": "python",
   "pygments_lexer": "ipython3",
   "version": "3.12.6"
  }
 },
 "nbformat": 4,
 "nbformat_minor": 5
}
